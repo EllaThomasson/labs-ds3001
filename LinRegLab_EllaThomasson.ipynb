{
  "nbformat": 4,
  "nbformat_minor": 0,
  "metadata": {
    "colab": {
      "provenance": [],
      "authorship_tag": "ABX9TyOx//Q0r4VcZQFvjkQ3OdsM",
      "include_colab_link": true
    },
    "kernelspec": {
      "name": "python3",
      "display_name": "Python 3"
    },
    "language_info": {
      "name": "python"
    }
  },
  "cells": [
    {
      "cell_type": "markdown",
      "metadata": {
        "id": "view-in-github",
        "colab_type": "text"
      },
      "source": [
        "<a href=\"https://colab.research.google.com/github/EllaThomasson/labs-ds3001/blob/main/LinRegLab_EllaThomasson.ipynb\" target=\"_parent\"><img src=\"https://colab.research.google.com/assets/colab-badge.svg\" alt=\"Open In Colab\"/></a>"
      ]
    },
    {
      "cell_type": "markdown",
      "source": [
        "**Question 0**"
      ],
      "metadata": {
        "id": "2fTCc-9VGX2d"
      }
    },
    {
      "cell_type": "markdown",
      "source": [
        "Part 1"
      ],
      "metadata": {
        "id": "pZSv_cMgGksv"
      }
    },
    {
      "cell_type": "markdown",
      "source": [
        "A linear model should be linear in Betas."
      ],
      "metadata": {
        "id": "h8bK1PNIHWTh"
      }
    },
    {
      "cell_type": "markdown",
      "source": [
        "Part 2"
      ],
      "metadata": {
        "id": "YA_BpyL3HxAo"
      }
    },
    {
      "cell_type": "markdown",
      "source": [],
      "metadata": {
        "id": "WHvzPsyhHx17"
      }
    },
    {
      "cell_type": "markdown",
      "source": [
        "Part 3"
      ],
      "metadata": {
        "id": "7ju1yJ1qIZyC"
      }
    },
    {
      "cell_type": "markdown",
      "source": [
        "Yes, linear regression can be used for classification but it is generally not advised because of interpretation and assumption violations. Logistic regression shoukd gerenally be used for classification."
      ],
      "metadata": {
        "id": "iurzcGd-IxFC"
      }
    },
    {
      "cell_type": "markdown",
      "source": [
        "Part 4"
      ],
      "metadata": {
        "id": "HOurZCM7IasZ"
      }
    },
    {
      "cell_type": "markdown",
      "source": [
        "If a linear model is overfitting, the training set will perform much better than the testing set."
      ],
      "metadata": {
        "id": "Ciy_nRH5JD4d"
      }
    },
    {
      "cell_type": "markdown",
      "source": [
        "Part 5"
      ],
      "metadata": {
        "id": "rAFLDVDBIecr"
      }
    },
    {
      "cell_type": "markdown",
      "source": [
        "Part 6"
      ],
      "metadata": {
        "id": "-OlkjJ09IfVn"
      }
    },
    {
      "cell_type": "markdown",
      "source": [
        "Part 7"
      ],
      "metadata": {
        "id": "MkiH0myeIgO6"
      }
    }
  ]
}