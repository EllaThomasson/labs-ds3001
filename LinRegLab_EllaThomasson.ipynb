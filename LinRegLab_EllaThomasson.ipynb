{
  "nbformat": 4,
  "nbformat_minor": 0,
  "metadata": {
    "colab": {
      "provenance": [],
      "authorship_tag": "ABX9TyM8YV5J3DLyBLRiFyKXdqUd",
      "include_colab_link": true
    },
    "kernelspec": {
      "name": "python3",
      "display_name": "Python 3"
    },
    "language_info": {
      "name": "python"
    }
  },
  "cells": [
    {
      "cell_type": "markdown",
      "metadata": {
        "id": "view-in-github",
        "colab_type": "text"
      },
      "source": [
        "<a href=\"https://colab.research.google.com/github/EllaThomasson/labs-ds3001/blob/main/LinRegLab_EllaThomasson.ipynb\" target=\"_parent\"><img src=\"https://colab.research.google.com/assets/colab-badge.svg\" alt=\"Open In Colab\"/></a>"
      ]
    },
    {
      "cell_type": "markdown",
      "source": [
        "# **Question 0**"
      ],
      "metadata": {
        "id": "2fTCc-9VGX2d"
      }
    },
    {
      "cell_type": "markdown",
      "source": [
        "Part 1"
      ],
      "metadata": {
        "id": "pZSv_cMgGksv"
      }
    },
    {
      "cell_type": "markdown",
      "source": [
        "A linear model should be linear in Betas."
      ],
      "metadata": {
        "id": "h8bK1PNIHWTh"
      }
    },
    {
      "cell_type": "markdown",
      "source": [
        "Part 2"
      ],
      "metadata": {
        "id": "YA_BpyL3HxAo"
      }
    },
    {
      "cell_type": "markdown",
      "source": [
        "With everything else in the model held constant, the prediction for the response is the intercept when the class of the observation is the reference class. If the class of the observation is not the reference class, the predicted response is expected to increases/decrease (slope) units compared to when theclass is the reference category.\n",
        "Summary:\n",
        "1. For the reference category: The predicted response is the intercept.\n",
        "2. For other categories: The predicted response is the intercept plus the coefficient of the dummy variable, reflecting an increase or decrease compared to the reference category."
      ],
      "metadata": {
        "id": "WHvzPsyhHx17"
      }
    },
    {
      "cell_type": "markdown",
      "source": [
        "Part 3"
      ],
      "metadata": {
        "id": "7ju1yJ1qIZyC"
      }
    },
    {
      "cell_type": "markdown",
      "source": [
        "Yes, linear regression technically can be used for classification but it is generally not advised because of interpretation and assumption violations. Logistic regression should be used for classification."
      ],
      "metadata": {
        "id": "iurzcGd-IxFC"
      }
    },
    {
      "cell_type": "markdown",
      "source": [
        "Part 4"
      ],
      "metadata": {
        "id": "HOurZCM7IasZ"
      }
    },
    {
      "cell_type": "markdown",
      "source": [
        "If a linear model is overfitting, the training set will perform much better than the testing set. Additionally, extremely large coefficients in your model can indicate that the model is fitting the noise in the data rather than the signal. Lastly, a linear model may be overfitting if small changes in the training data lead to large changes in model predictions."
      ],
      "metadata": {
        "id": "Ciy_nRH5JD4d"
      }
    },
    {
      "cell_type": "markdown",
      "source": [
        "Part 5"
      ],
      "metadata": {
        "id": "rAFLDVDBIecr"
      }
    },
    {
      "cell_type": "markdown",
      "source": [
        "Multicollinearity occurs when two or more independent variables in a regression model are highly correlated, which can lead to unreliable estimates of coefficients and inflated standard errors. In terms of two-stage least squares. in many cases, multicollinearity can arise from endogeneity, where an independent variable is correlated with the error term due to omitted variable bias, measurement errors, or simultaneous relationships. When multicollinearity exists alongside endogeneity, traditional methods like Ordinary Least Squares (OLS) can yield biased estimates."
      ],
      "metadata": {
        "id": "V38NncqEA6ak"
      }
    },
    {
      "cell_type": "markdown",
      "source": [
        "Part 6"
      ],
      "metadata": {
        "id": "-OlkjJ09IfVn"
      }
    },
    {
      "cell_type": "markdown",
      "source": [
        "You can add interaction terms or higher order terms to your linear regression model. You could also use a different type of model like a decision trees or knn."
      ],
      "metadata": {
        "id": "Oo4kB-91CVHZ"
      }
    },
    {
      "cell_type": "markdown",
      "source": [
        "Part 7"
      ],
      "metadata": {
        "id": "MkiH0myeIgO6"
      }
    },
    {
      "cell_type": "markdown",
      "source": [
        "When all of the variables are 0 (or the reference class for categorical variables), the response variable is -.\n",
        "When all other variables are held constant, for a one unit increase in -, the response is predicted to increase by -.\n",
        "The coefficients of the one-hot encoded variables represent the change in the dependent variable relative to the reference category. For example, the value being - increases the predicted value of the dependent variable by slope units compared to being the reference category."
      ],
      "metadata": {
        "id": "i49kvsKADio1"
      }
    },
    {
      "cell_type": "markdown",
      "source": [
        "# **Question 1**"
      ],
      "metadata": {
        "id": "xWrwkPw9L5_M"
      }
    },
    {
      "cell_type": "code",
      "source": [
        "! git clone https://github.com/DS3001/linearRegression"
      ],
      "metadata": {
        "colab": {
          "base_uri": "https://localhost:8080/"
        },
        "id": "MWmRjPqENjN3",
        "outputId": "7ced9659-e00e-45fe-c22d-eee3b7406b77"
      },
      "execution_count": 2,
      "outputs": [
        {
          "output_type": "stream",
          "name": "stdout",
          "text": [
            "Cloning into 'linearRegression'...\n",
            "remote: Enumerating objects: 66, done.\u001b[K\n",
            "remote: Counting objects:   3% (1/29)\u001b[K\rremote: Counting objects:   6% (2/29)\u001b[K\rremote: Counting objects:  10% (3/29)\u001b[K\rremote: Counting objects:  13% (4/29)\u001b[K\rremote: Counting objects:  17% (5/29)\u001b[K\rremote: Counting objects:  20% (6/29)\u001b[K\rremote: Counting objects:  24% (7/29)\u001b[K\rremote: Counting objects:  27% (8/29)\u001b[K\rremote: Counting objects:  31% (9/29)\u001b[K\rremote: Counting objects:  34% (10/29)\u001b[K\rremote: Counting objects:  37% (11/29)\u001b[K\rremote: Counting objects:  41% (12/29)\u001b[K\rremote: Counting objects:  44% (13/29)\u001b[K\rremote: Counting objects:  48% (14/29)\u001b[K\rremote: Counting objects:  51% (15/29)\u001b[K\rremote: Counting objects:  55% (16/29)\u001b[K\rremote: Counting objects:  58% (17/29)\u001b[K\rremote: Counting objects:  62% (18/29)\u001b[K\rremote: Counting objects:  65% (19/29)\u001b[K\rremote: Counting objects:  68% (20/29)\u001b[K\rremote: Counting objects:  72% (21/29)\u001b[K\rremote: Counting objects:  75% (22/29)\u001b[K\rremote: Counting objects:  79% (23/29)\u001b[K\rremote: Counting objects:  82% (24/29)\u001b[K\rremote: Counting objects:  86% (25/29)\u001b[K\rremote: Counting objects:  89% (26/29)\u001b[K\rremote: Counting objects:  93% (27/29)\u001b[K\rremote: Counting objects:  96% (28/29)\u001b[K\rremote: Counting objects: 100% (29/29)\u001b[K\rremote: Counting objects: 100% (29/29), done.\u001b[K\n",
            "remote: Compressing objects: 100% (18/18), done.\u001b[K\n",
            "remote: Total 66 (delta 20), reused 11 (delta 11), pack-reused 37 (from 1)\u001b[K\n",
            "Receiving objects: 100% (66/66), 2.64 MiB | 18.66 MiB/s, done.\n",
            "Resolving deltas: 100% (22/22), done.\n"
          ]
        }
      ]
    },
    {
      "cell_type": "markdown",
      "source": [
        "Part 1"
      ],
      "metadata": {
        "id": "5Y81_sapMGPj"
      }
    },
    {
      "cell_type": "markdown",
      "source": [
        "Part 2"
      ],
      "metadata": {
        "id": "uZDze7-WMKcL"
      }
    },
    {
      "cell_type": "markdown",
      "source": [
        "Part 3"
      ],
      "metadata": {
        "id": "cJSVpsIZMLBS"
      }
    },
    {
      "cell_type": "markdown",
      "source": [
        "Part 4"
      ],
      "metadata": {
        "id": "X_yGA-akMLpN"
      }
    },
    {
      "cell_type": "markdown",
      "source": [
        "Part 5"
      ],
      "metadata": {
        "id": "DtRlkQJ2MMTO"
      }
    },
    {
      "cell_type": "markdown",
      "source": [
        "Part 6"
      ],
      "metadata": {
        "id": "0DNk7HWvMNrR"
      }
    },
    {
      "cell_type": "markdown",
      "source": [
        "Part 7"
      ],
      "metadata": {
        "id": "_W8RodbXMOkt"
      }
    }
  ]
}