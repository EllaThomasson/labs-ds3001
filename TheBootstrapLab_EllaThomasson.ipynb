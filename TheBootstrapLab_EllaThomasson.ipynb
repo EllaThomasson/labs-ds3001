{
  "nbformat": 4,
  "nbformat_minor": 0,
  "metadata": {
    "colab": {
      "provenance": [],
      "authorship_tag": "ABX9TyNZxOPZhkeob+t23VBM8uHd",
      "include_colab_link": true
    },
    "kernelspec": {
      "name": "python3",
      "display_name": "Python 3"
    },
    "language_info": {
      "name": "python"
    }
  },
  "cells": [
    {
      "cell_type": "markdown",
      "metadata": {
        "id": "view-in-github",
        "colab_type": "text"
      },
      "source": [
        "<a href=\"https://colab.research.google.com/github/EllaThomasson/labs-ds3001/blob/main/TheBootstrapLab_EllaThomasson.ipynb\" target=\"_parent\"><img src=\"https://colab.research.google.com/assets/colab-badge.svg\" alt=\"Open In Colab\"/></a>"
      ]
    },
    {
      "cell_type": "code",
      "execution_count": 3,
      "metadata": {
        "colab": {
          "base_uri": "https://localhost:8080/"
        },
        "id": "3zzB6PI2_d8f",
        "outputId": "749f18f5-a192-4e6b-9650-565dada434c0"
      },
      "outputs": [
        {
          "output_type": "stream",
          "name": "stdout",
          "text": [
            "fatal: destination path 'the_bootstrap' already exists and is not an empty directory.\n"
          ]
        }
      ],
      "source": [
        "! git clone https://www.github.com/DS3001/the_bootstrap"
      ]
    },
    {
      "cell_type": "markdown",
      "source": [
        "Question 2"
      ],
      "metadata": {
        "id": "dorKdcs9_4lv"
      }
    },
    {
      "cell_type": "code",
      "source": [],
      "metadata": {
        "id": "up41IRRSCH4i"
      },
      "execution_count": null,
      "outputs": []
    }
  ]
}