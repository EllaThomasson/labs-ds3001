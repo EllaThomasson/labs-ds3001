{
  "nbformat": 4,
  "nbformat_minor": 0,
  "metadata": {
    "colab": {
      "provenance": [],
      "authorship_tag": "ABX9TyNUglGcoc/gRAqapib0crm7",
      "include_colab_link": true
    },
    "kernelspec": {
      "name": "python3",
      "display_name": "Python 3"
    },
    "language_info": {
      "name": "python"
    }
  },
  "cells": [
    {
      "cell_type": "markdown",
      "metadata": {
        "id": "view-in-github",
        "colab_type": "text"
      },
      "source": [
        "<a href=\"https://colab.research.google.com/github/EllaThomasson/labs-ds3001/blob/main/Lab_Solutions.ipynb\" target=\"_parent\"><img src=\"https://colab.research.google.com/assets/colab-badge.svg\" alt=\"Open In Colab\"/></a>"
      ]
    },
    {
      "cell_type": "markdown",
      "source": [
        "Question 1"
      ],
      "metadata": {
        "id": "718ZlLZESMpm"
      }
    },
    {
      "cell_type": "code",
      "execution_count": null,
      "metadata": {
        "id": "X8Zj4r8gSA_I"
      },
      "outputs": [],
      "source": [
        "# I did practice writing queries using saferproducts.gov.\n",
        "\n",
        "# Here is an example:\n",
        "url = 'https://www.saferproducts.gov/RestWebServices/Recall?format=json&ProductType=Phone'"
      ]
    },
    {
      "cell_type": "markdown",
      "source": [
        "Question 2"
      ],
      "metadata": {
        "id": "huvQeLRzSO4B"
      }
    },
    {
      "cell_type": "code",
      "source": [],
      "metadata": {
        "id": "5dkN5_9hSSN-"
      },
      "execution_count": null,
      "outputs": []
    },
    {
      "cell_type": "markdown",
      "source": [
        "Question 3"
      ],
      "metadata": {
        "id": "icS-kFtISS80"
      }
    },
    {
      "cell_type": "code",
      "source": [],
      "metadata": {
        "id": "56Bq5UMhSUJB"
      },
      "execution_count": null,
      "outputs": []
    },
    {
      "cell_type": "markdown",
      "source": [
        "Question 4"
      ],
      "metadata": {
        "id": "nXqgEx3LSUo0"
      }
    },
    {
      "cell_type": "code",
      "source": [],
      "metadata": {
        "id": "RJVqBgeOSVdI"
      },
      "execution_count": null,
      "outputs": []
    },
    {
      "cell_type": "markdown",
      "source": [
        "Question 5"
      ],
      "metadata": {
        "id": "d5X60Mb1SVu2"
      }
    },
    {
      "cell_type": "code",
      "source": [],
      "metadata": {
        "id": "kGPOzK7jSWsi"
      },
      "execution_count": null,
      "outputs": []
    }
  ]
}