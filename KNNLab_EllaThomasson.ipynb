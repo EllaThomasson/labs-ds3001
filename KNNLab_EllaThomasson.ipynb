{
  "nbformat": 4,
  "nbformat_minor": 0,
  "metadata": {
    "colab": {
      "provenance": [],
      "authorship_tag": "ABX9TyOkAFw8/qBuZlWmeMOmxMxE",
      "include_colab_link": true
    },
    "kernelspec": {
      "name": "python3",
      "display_name": "Python 3"
    },
    "language_info": {
      "name": "python"
    }
  },
  "cells": [
    {
      "cell_type": "markdown",
      "metadata": {
        "id": "view-in-github",
        "colab_type": "text"
      },
      "source": [
        "<a href=\"https://colab.research.google.com/github/EllaThomasson/labs-ds3001/blob/main/KNNLab_EllaThomasson.ipynb\" target=\"_parent\"><img src=\"https://colab.research.google.com/assets/colab-badge.svg\" alt=\"Open In Colab\"/></a>"
      ]
    },
    {
      "cell_type": "code",
      "execution_count": 4,
      "metadata": {
        "colab": {
          "base_uri": "https://localhost:8080/"
        },
        "id": "QPFUDBqxekPu",
        "outputId": "bb21bf7d-cad7-4b06-ad91-3472f31a0da7"
      },
      "outputs": [
        {
          "output_type": "stream",
          "name": "stdout",
          "text": [
            "fatal: destination path 'knn' already exists and is not an empty directory.\n"
          ]
        }
      ],
      "source": [
        "! git clone https://github.com/DS3001/knn\n",
        "import pandas as pd"
      ]
    },
    {
      "cell_type": "markdown",
      "source": [
        "**Question** **0**"
      ],
      "metadata": {
        "id": "AhNh2J-6epEN"
      }
    },
    {
      "cell_type": "markdown",
      "source": [
        "Part 1"
      ],
      "metadata": {
        "id": "U7grN9SWe2st"
      }
    },
    {
      "cell_type": "markdown",
      "source": [
        "Regression is for a quantitative response, and classification is for a categorical response."
      ],
      "metadata": {
        "id": "Z5Ppsq9nfFWZ"
      }
    },
    {
      "cell_type": "markdown",
      "source": [
        "Part 2"
      ],
      "metadata": {
        "id": "tvfIuaCke-XB"
      }
    },
    {
      "cell_type": "markdown",
      "source": [
        "A confusion table cross-tabulates the predicted and actual values for a model. It helps us understand how well we are correctly predicting the response using our model. It shows us how often the model correctly predict and how often the model incorrectly predicts."
      ],
      "metadata": {
        "id": "w9TDiIOIgHcK"
      }
    },
    {
      "cell_type": "markdown",
      "source": [
        "Part 3"
      ],
      "metadata": {
        "id": "dWO_MjvXfA1_"
      }
    },
    {
      "cell_type": "markdown",
      "source": [
        "The SSE quantifies the error within the model. More specifically, the SSE quantifies the total deviation of the predicted values from the actual values in a regression model. We take the difference between true and predicted values, square it to ensure the values are positive, then sum over all predictions."
      ],
      "metadata": {
        "id": "KCWouj72hmm4"
      }
    },
    {
      "cell_type": "markdown",
      "source": [
        "Part 4"
      ],
      "metadata": {
        "id": "J1Xif27ofBnU"
      }
    },
    {
      "cell_type": "markdown",
      "source": [
        "Overfitting is when the model is using the noise in the training data to make predictions. So, when we try to use the model on the testing data, it does not perform very well, because the model is recognizing trends that aren't actually trends, but just noise. Underfitting is when the model is too simple. It is not recognizing the true trends in the model, and a more complex model is likely nexessary.  "
      ],
      "metadata": {
        "id": "fE0hS8ISiDAn"
      }
    },
    {
      "cell_type": "markdown",
      "source": [
        "Part 5"
      ],
      "metadata": {
        "id": "2hBeeTB_fCUg"
      }
    },
    {
      "cell_type": "markdown",
      "source": [
        "It is important to use the testing and training data to eveluate k because this allows us to eveluate whether we are underfitting or overfitting the model. The testing dataset is also needed because it acts as \"never seen before\" data, so that we can see how the model will work on data that it was not trained on."
      ],
      "metadata": {
        "id": "CyqfLvAvjt_u"
      }
    },
    {
      "cell_type": "markdown",
      "source": [
        "Part 6"
      ],
      "metadata": {
        "id": "bKdAfo1UfDGp"
      }
    },
    {
      "cell_type": "markdown",
      "source": [
        "Class label predictions are simple, efficient, and easy to interpret but may overlook important information about model confidence, while probability distributions provide a richer understanding of model predictions but come with added complexity and computational costs."
      ],
      "metadata": {
        "id": "Qun5vmdglCPu"
      }
    },
    {
      "cell_type": "markdown",
      "source": [
        "**Question 1**"
      ],
      "metadata": {
        "id": "xTv2yEZVligl"
      }
    },
    {
      "cell_type": "code",
      "source": [
        "data = pd.read_csv('/content/knn/data/USA_cars_datasets.csv', low_memory=False)"
      ],
      "metadata": {
        "id": "9LFo-gFJlrqa"
      },
      "execution_count": 7,
      "outputs": []
    },
    {
      "cell_type": "markdown",
      "source": [
        "Part 1"
      ],
      "metadata": {
        "id": "ZrhuhEKWnLG3"
      }
    },
    {
      "cell_type": "code",
      "source": [],
      "metadata": {
        "id": "r4zeMFq7nO8q"
      },
      "execution_count": null,
      "outputs": []
    }
  ]
}