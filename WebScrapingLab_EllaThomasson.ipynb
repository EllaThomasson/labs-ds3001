{
  "nbformat": 4,
  "nbformat_minor": 0,
  "metadata": {
    "colab": {
      "provenance": [],
      "authorship_tag": "ABX9TyN9qGE2bfrNmSC+Am88hy9I",
      "include_colab_link": true
    },
    "kernelspec": {
      "name": "python3",
      "display_name": "Python 3"
    },
    "language_info": {
      "name": "python"
    }
  },
  "cells": [
    {
      "cell_type": "markdown",
      "metadata": {
        "id": "view-in-github",
        "colab_type": "text"
      },
      "source": [
        "<a href=\"https://colab.research.google.com/github/EllaThomasson/labs-ds3001/blob/main/WebScrapingLab_EllaThomasson.ipynb\" target=\"_parent\"><img src=\"https://colab.research.google.com/assets/colab-badge.svg\" alt=\"Open In Colab\"/></a>"
      ]
    },
    {
      "cell_type": "markdown",
      "source": [
        "Question 1"
      ],
      "metadata": {
        "id": "AM-Q_gPVfeBk"
      }
    },
    {
      "cell_type": "code",
      "execution_count": 3,
      "metadata": {
        "id": "wadHjo2zfSz6"
      },
      "outputs": [],
      "source": [
        "# I am choosing to look at the appts/housing options on craigslist\n",
        "\n",
        "import numpy as np\n",
        "import matplotlib.pyplot as plt\n",
        "import pandas as pd\n",
        "import seaborn as sns\n",
        "\n",
        "import requests # Page requests\n",
        "\n",
        "header = {'User-Agent': 'Mozilla/5.0 (Windows NT 10.0; Win64; x64; rv:124.0) Gecko/20100101 Firefox/124.0'}\n",
        "url = 'https://charlottesville.craigslist.org/search/pet#search=1~list~0~0'\n",
        "raw = requests.get(url,headers=header)\n"
      ]
    },
    {
      "cell_type": "markdown",
      "source": [
        "Question 2"
      ],
      "metadata": {
        "id": "3ev_mNJ6gsy6"
      }
    },
    {
      "cell_type": "code",
      "source": [
        "from bs4 import BeautifulSoup as soup # HTML parser\n",
        "bsObj = soup(raw.content,'html.parser') # Parse the html\n",
        "listings = bsObj.find_all(class_=\"cl-static-search-result\") # Find all listings"
      ],
      "metadata": {
        "id": "bvtKr7DbgVC5"
      },
      "execution_count": 4,
      "outputs": []
    },
    {
      "cell_type": "code",
      "source": [
        "import re # Regular expressions\n",
        "\n",
        "types = ['rabbit', 'yorkie','kitten','bird','snake','macaw','puppies','dog','fish','cat',\n",
        "          'kittens','cats','rooster','gecko']\n",
        "\n",
        "data = [] # We'll save our listings in this object\n",
        "for k in range( len(listings) ):\n",
        "    title = listings[k].find('div',class_='title').get_text().lower()\n",
        "    price = listings[k].find('div',class_='price').get_text()\n",
        "    link = listings[k].find(href=True)['href']\n",
        "    # Get brand from the title string:\n",
        "    words = title.split()\n",
        "    hits = [word for word in words if word in types] # Find brands in the title\n",
        "    if len(hits) == 0:\n",
        "        types = 'missing'\n",
        "    else:\n",
        "        types = hits[0]\n",
        "    # Get years from title string:\n",
        "    regex_search = re.search(r'20[0-9][0-9]|19[0-9][0-9]', title ) # Find year references\n",
        "    if regex_search is None: # If no hits, record year as missing value\n",
        "        year = np.nan\n",
        "    else: # If hits, record year as first match\n",
        "        year = regex_search.group(0)\n",
        "    #\n",
        "    data.append({'title':title,'price':price,'year':year,'link':link,'types':types})"
      ],
      "metadata": {
        "id": "ouh1yXzSfhko"
      },
      "execution_count": 5,
      "outputs": []
    },
    {
      "cell_type": "markdown",
      "source": [
        "Question 3"
      ],
      "metadata": {
        "id": "fwdllF0NfiDf"
      }
    },
    {
      "cell_type": "code",
      "source": [
        "data"
      ],
      "metadata": {
        "colab": {
          "base_uri": "https://localhost:8080/"
        },
        "id": "DUGkIY9bfjP2",
        "outputId": "0cbf8583-30d3-4398-846f-45221cf5fbac"
      },
      "execution_count": 6,
      "outputs": [
        {
          "output_type": "execute_result",
          "data": {
            "text/plain": [
              "[{'title': 'large, sturdy rabbit hutches',\n",
              "  'price': '$0',\n",
              "  'year': nan,\n",
              "  'link': 'https://charlottesville.craigslist.org/pet/d/esmont-large-sturdy-rabbit-hutches/7783710794.html',\n",
              "  'types': 'rabbit'},\n",
              " {'title': 'yorkie pups',\n",
              "  'price': '$0',\n",
              "  'year': nan,\n",
              "  'link': 'https://charlottesville.craigslist.org/pet/d/charlottesville-yorkie-pups/7789036918.html',\n",
              "  'types': 'missing'},\n",
              " {'title': 'looking for a kitten',\n",
              "  'price': '$0',\n",
              "  'year': nan,\n",
              "  'link': 'https://charlottesville.craigslist.org/pet/d/charlottesville-looking-for-kitten/7788903625.html',\n",
              "  'types': 'missing'},\n",
              " {'title': 'iso pet bird',\n",
              "  'price': '$0',\n",
              "  'year': nan,\n",
              "  'link': 'https://charlottesville.craigslist.org/pet/d/charlottesville-iso-pet-bird/7788172811.html',\n",
              "  'types': 'missing'},\n",
              " {'title': 'looking for a kitten!',\n",
              "  'price': '$0',\n",
              "  'year': nan,\n",
              "  'link': 'https://charlottesville.craigslist.org/pet/d/charlottesville-looking-for-kitten/7788802039.html',\n",
              "  'types': 'missing'},\n",
              " {'title': 'dog food: rayne rabbit stew (maintenance diet)',\n",
              "  'price': '$0',\n",
              "  'year': nan,\n",
              "  'link': 'https://charlottesville.craigslist.org/pet/d/quinque-dog-food-rayne-rabbit-stew/7781183448.html',\n",
              "  'types': 'missing'},\n",
              " {'title': 'wanted aquarium stand',\n",
              "  'price': '$0',\n",
              "  'year': nan,\n",
              "  'link': 'https://charlottesville.craigslist.org/pet/d/scottsville-wanted-aquarium-stand/7788373495.html',\n",
              "  'types': 'missing'},\n",
              " {'title': 'hypo western hognose snake',\n",
              "  'price': '$0',\n",
              "  'year': nan,\n",
              "  'link': 'https://charlottesville.craigslist.org/pet/d/waynesboro-hypo-western-hognose-snake/7788342409.html',\n",
              "  'types': 'missing'},\n",
              " {'title': 'iso amazon, cockatoo, macaw',\n",
              "  'price': '$0',\n",
              "  'year': nan,\n",
              "  'link': 'https://charlottesville.craigslist.org/pet/d/troy-iso-amazon-cockatoo-macaw/7788219323.html',\n",
              "  'types': 'missing'},\n",
              " {'title': 'ball python snake',\n",
              "  'price': '$0',\n",
              "  'year': nan,\n",
              "  'link': 'https://charlottesville.craigslist.org/pet/d/charlottesville-ball-python-snake/7787601698.html',\n",
              "  'types': 'missing'},\n",
              " {'title': '8 puppies',\n",
              "  'price': '$0',\n",
              "  'year': nan,\n",
              "  'link': 'https://charlottesville.craigslist.org/pet/d/columbia-puppies/7787447353.html',\n",
              "  'types': 'missing'},\n",
              " {'title': 'rehoming 2 kitties',\n",
              "  'price': '$0',\n",
              "  'year': nan,\n",
              "  'link': 'https://charlottesville.craigslist.org/pet/d/charlottesville-rehoming-kitties/7786521452.html',\n",
              "  'types': 'missing'},\n",
              " {'title': 'still looking for our lost male golden retriever',\n",
              "  'price': '$0',\n",
              "  'year': nan,\n",
              "  'link': 'https://charlottesville.craigslist.org/pet/d/keswick-still-looking-for-our-lost-male/7786448308.html',\n",
              "  'types': 'missing'},\n",
              " {'title': 'rabbit hutch & accessories',\n",
              "  'price': '$0',\n",
              "  'year': nan,\n",
              "  'link': 'https://charlottesville.craigslist.org/pet/d/orange-rabbit-hutch-accessories/7786440404.html',\n",
              "  'types': 'missing'},\n",
              " {'title': 'german shepherd mix puppies',\n",
              "  'price': '$0',\n",
              "  'year': nan,\n",
              "  'link': 'https://charlottesville.craigslist.org/pet/d/bremo-bluff-german-shepherd-mix-puppies/7785996959.html',\n",
              "  'types': 'missing'},\n",
              " {'title': 'looking for a short hair solid black cat',\n",
              "  'price': '$0',\n",
              "  'year': nan,\n",
              "  'link': 'https://charlottesville.craigslist.org/pet/d/charlottesville-looking-for-short-hair/7785739411.html',\n",
              "  'types': 'missing'},\n",
              " {'title': 'ratty cage and supplies $70',\n",
              "  'price': '$0',\n",
              "  'year': nan,\n",
              "  'link': 'https://charlottesville.craigslist.org/pet/d/waynesboro-ratty-cage-and-supplies-70/7785463885.html',\n",
              "  'types': 'missing'},\n",
              " {'title': 'dog for rehoming',\n",
              "  'price': '$0',\n",
              "  'year': nan,\n",
              "  'link': 'https://charlottesville.craigslist.org/pet/d/waynesboro-dog-for-rehoming/7785444739.html',\n",
              "  'types': 'missing'},\n",
              " {'title': 'blue parrotlets',\n",
              "  'price': '$0',\n",
              "  'year': nan,\n",
              "  'link': 'https://charlottesville.craigslist.org/pet/d/palmyra-blue-parrotlets/7785128965.html',\n",
              "  'types': 'missing'},\n",
              " {'title': 'have to rehome my dog due to work',\n",
              "  'price': '$0',\n",
              "  'year': nan,\n",
              "  'link': 'https://charlottesville.craigslist.org/pet/d/columbia-have-to-rehome-my-dog-due-to/7783895707.html',\n",
              "  'types': 'missing'},\n",
              " {'title': 'fish, tank, and supplies',\n",
              "  'price': '$0',\n",
              "  'year': nan,\n",
              "  'link': 'https://charlottesville.craigslist.org/pet/d/lovingston-fish-tank-and-supplies/7782866382.html',\n",
              "  'types': 'missing'},\n",
              " {'title': 'parakeets',\n",
              "  'price': '$0',\n",
              "  'year': nan,\n",
              "  'link': 'https://charlottesville.craigslist.org/pet/d/white-hall-parakeets/7782906746.html',\n",
              "  'types': 'missing'},\n",
              " {'title': 'bolivian ram cichlids',\n",
              "  'price': '$0',\n",
              "  'year': nan,\n",
              "  'link': 'https://charlottesville.craigslist.org/pet/d/charlottesville-bolivian-ram-cichlids/7782878360.html',\n",
              "  'types': 'missing'},\n",
              " {'title': 'wanted breaded dragons and geckos',\n",
              "  'price': '$0',\n",
              "  'year': nan,\n",
              "  'link': 'https://charlottesville.craigslist.org/pet/d/louisa-wanted-breaded-dragons-and-geckos/7782868723.html',\n",
              "  'types': 'missing'},\n",
              " {'title': 'needs new home',\n",
              "  'price': '$0',\n",
              "  'year': nan,\n",
              "  'link': 'https://charlottesville.craigslist.org/pet/d/charlottesville-needs-new-home/7779177730.html',\n",
              "  'types': 'missing'},\n",
              " {'title': 'rehoming 1 year old cat',\n",
              "  'price': '$0',\n",
              "  'year': nan,\n",
              "  'link': 'https://charlottesville.craigslist.org/pet/d/quinque-rehoming-year-old-cat/7781960331.html',\n",
              "  'types': 'missing'},\n",
              " {'title': 'rehoming',\n",
              "  'price': '$0',\n",
              "  'year': nan,\n",
              "  'link': 'https://charlottesville.craigslist.org/pet/d/waynesboro-rehoming/7781944095.html',\n",
              "  'types': 'missing'},\n",
              " {'title': 'iso rooster!',\n",
              "  'price': '$0',\n",
              "  'year': nan,\n",
              "  'link': 'https://charlottesville.craigslist.org/pet/d/orange-iso-rooster/7781249392.html',\n",
              "  'types': 'missing'},\n",
              " {'title': '2 adorable kittens',\n",
              "  'price': '$0',\n",
              "  'year': nan,\n",
              "  'link': 'https://charlottesville.craigslist.org/pet/d/earlysville-adorable-kittens/7780875663.html',\n",
              "  'types': 'missing'},\n",
              " {'title': '2 super sweet cats',\n",
              "  'price': '$0',\n",
              "  'year': nan,\n",
              "  'link': 'https://charlottesville.craigslist.org/pet/d/charlottesville-super-sweet-cats/7780752764.html',\n",
              "  'types': 'missing'},\n",
              " {'title': 'ball python yearling for rehome',\n",
              "  'price': '$0',\n",
              "  'year': nan,\n",
              "  'link': 'https://charlottesville.craigslist.org/pet/d/barboursville-ball-python-yearling-for/7771721697.html',\n",
              "  'types': 'missing'},\n",
              " {'title': '5 month old kitten!',\n",
              "  'price': '$0',\n",
              "  'year': nan,\n",
              "  'link': 'https://charlottesville.craigslist.org/pet/d/palmyra-month-old-kitten/7780281026.html',\n",
              "  'types': 'missing'},\n",
              " {'title': 'balinese / long hair siamese cat',\n",
              "  'price': '$0',\n",
              "  'year': nan,\n",
              "  'link': 'https://charlottesville.craigslist.org/pet/d/harrisonburg-balinese-long-hair-siamese/7776461345.html',\n",
              "  'types': 'missing'},\n",
              " {'title': 'looking for bourks',\n",
              "  'price': '$0',\n",
              "  'year': nan,\n",
              "  'link': 'https://charlottesville.craigslist.org/pet/d/palmyra-looking-for-bourks/7779579149.html',\n",
              "  'types': 'missing'},\n",
              " {'title': 'ball python and setup',\n",
              "  'price': '$0',\n",
              "  'year': nan,\n",
              "  'link': 'https://charlottesville.craigslist.org/pet/d/stanardsville-ball-python-and-setup/7770591007.html',\n",
              "  'types': 'missing'},\n",
              " {'title': 'small animal cage (like new) guinea/rabbit $40',\n",
              "  'price': '$0',\n",
              "  'year': nan,\n",
              "  'link': 'https://charlottesville.craigslist.org/pet/d/pratts-small-animal-cage-like-new/7773023975.html',\n",
              "  'types': 'missing'},\n",
              " {'title': 'large dog kennel/crate $35',\n",
              "  'price': '$0',\n",
              "  'year': nan,\n",
              "  'link': 'https://charlottesville.craigslist.org/pet/d/pratts-large-dog-kennel-crate-35/7778840661.html',\n",
              "  'types': 'missing'},\n",
              " {'title': 'parrotlets,',\n",
              "  'price': '$0',\n",
              "  'year': nan,\n",
              "  'link': 'https://charlottesville.craigslist.org/pet/d/palmyra-parrotlets/7778056113.html',\n",
              "  'types': 'missing'},\n",
              " {'title': 'livestock guardians',\n",
              "  'price': '$0',\n",
              "  'year': nan,\n",
              "  'link': 'https://charlottesville.craigslist.org/pet/d/hardy-livestock-guardians/7777795777.html',\n",
              "  'types': 'missing'},\n",
              " {'title': 'sony tv',\n",
              "  'price': '$0',\n",
              "  'year': nan,\n",
              "  'link': 'https://charlottesville.craigslist.org/pet/d/schuyler-sony-tv/7777723906.html',\n",
              "  'types': 'missing'},\n",
              " {'title': 'male kitty indoor/outdoor',\n",
              "  'price': '$0',\n",
              "  'year': nan,\n",
              "  'link': 'https://charlottesville.craigslist.org/pet/d/montpelier-station-male-kitty-indoor/7777374145.html',\n",
              "  'types': 'missing'},\n",
              " {'title': 'iso leopard gecko',\n",
              "  'price': '$0',\n",
              "  'year': nan,\n",
              "  'link': 'https://charlottesville.craigslist.org/pet/d/charlottesville-iso-leopard-gecko/7776818898.html',\n",
              "  'types': 'missing'}]"
            ]
          },
          "metadata": {},
          "execution_count": 6
        }
      ]
    },
    {
      "cell_type": "markdown",
      "source": [
        "Question 4"
      ],
      "metadata": {
        "id": "2Wxh-aT5fjmM"
      }
    },
    {
      "cell_type": "code",
      "source": [],
      "metadata": {
        "id": "C82LLLQafkeF"
      },
      "execution_count": null,
      "outputs": []
    }
  ]
}