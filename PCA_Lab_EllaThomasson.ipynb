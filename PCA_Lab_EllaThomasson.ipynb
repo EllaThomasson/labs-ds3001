{
  "nbformat": 4,
  "nbformat_minor": 0,
  "metadata": {
    "colab": {
      "provenance": [],
      "authorship_tag": "ABX9TyOC9o+Du0IZxyHVuz3L+c5F",
      "include_colab_link": true
    },
    "kernelspec": {
      "name": "python3",
      "display_name": "Python 3"
    },
    "language_info": {
      "name": "python"
    }
  },
  "cells": [
    {
      "cell_type": "markdown",
      "metadata": {
        "id": "view-in-github",
        "colab_type": "text"
      },
      "source": [
        "<a href=\"https://colab.research.google.com/github/EllaThomasson/labs-ds3001/blob/main/PCA_Lab_EllaThomasson.ipynb\" target=\"_parent\"><img src=\"https://colab.research.google.com/assets/colab-badge.svg\" alt=\"Open In Colab\"/></a>"
      ]
    },
    {
      "cell_type": "code",
      "source": [
        "! git clone https://github.com/DS3001/PCA"
      ],
      "metadata": {
        "colab": {
          "base_uri": "https://localhost:8080/"
        },
        "id": "lMUm9nIH7Ett",
        "outputId": "2e6e2225-5f4f-4805-f897-56b727e5c99e"
      },
      "execution_count": 11,
      "outputs": [
        {
          "output_type": "stream",
          "name": "stdout",
          "text": [
            "Cloning into 'PCA'...\n",
            "remote: Enumerating objects: 45, done.\u001b[K\n",
            "remote: Counting objects: 100% (45/45), done.\u001b[K\n",
            "remote: Compressing objects: 100% (40/40), done.\u001b[K\n",
            "remote: Total 45 (delta 12), reused 14 (delta 3), pack-reused 0 (from 0)\u001b[K\n",
            "Receiving objects: 100% (45/45), 2.42 MiB | 8.12 MiB/s, done.\n",
            "Resolving deltas: 100% (12/12), done.\n"
          ]
        }
      ]
    },
    {
      "cell_type": "code",
      "source": [
        "import numpy as np\n",
        "import pandas as pd\n",
        "import pickle\n",
        "from collections import Counter\n",
        "from multiprocessing.pool import Pool\n",
        "from sklearn.decomposition import PCA\n",
        "from sklearn.linear_model import LinearRegression\n",
        "from sklearn.model_selection import train_test_split\n",
        "from sklearn.metrics import r2_score\n",
        "import seaborn as sns\n",
        "import matplotlib.pyplot as plt"
      ],
      "metadata": {
        "id": "A7nzPaOY3YRZ"
      },
      "execution_count": 6,
      "outputs": []
    },
    {
      "cell_type": "code",
      "execution_count": 3,
      "metadata": {
        "id": "Vdy-mbIA3DRk"
      },
      "outputs": [],
      "source": [
        "df = pd.read_parquet('https://data434.s3.us-east-2.amazonaws.com/Phishing_Email.parquet')"
      ]
    },
    {
      "cell_type": "markdown",
      "source": [
        "**Question 1**"
      ],
      "metadata": {
        "id": "qf3a1tXc3cpS"
      }
    },
    {
      "cell_type": "code",
      "source": [
        "tokens = df['Email Text'].str.split()\n",
        "tokens.head()"
      ],
      "metadata": {
        "colab": {
          "base_uri": "https://localhost:8080/",
          "height": 241
        },
        "id": "i2upbbvo3kUu",
        "outputId": "db5e2ac2-bc0d-4012-cc59-113c2a0a1c4c"
      },
      "execution_count": 4,
      "outputs": [
        {
          "output_type": "execute_result",
          "data": {
            "text/plain": [
              "0    [re, :, 6, ., 1100, ,, disc, :, uniformitarian...\n",
              "1    [the, other, side, of, *, galicismos, *, *, ga...\n",
              "2    [re, :, equistar, deal, tickets, are, you, sti...\n",
              "3    [Hello, I, am, your, hot, lil, horny, toy., I,...\n",
              "4    [software, at, incredibly, low, prices, (, 86,...\n",
              "Name: Email Text, dtype: object"
            ],
            "text/html": [
              "<div>\n",
              "<style scoped>\n",
              "    .dataframe tbody tr th:only-of-type {\n",
              "        vertical-align: middle;\n",
              "    }\n",
              "\n",
              "    .dataframe tbody tr th {\n",
              "        vertical-align: top;\n",
              "    }\n",
              "\n",
              "    .dataframe thead th {\n",
              "        text-align: right;\n",
              "    }\n",
              "</style>\n",
              "<table border=\"1\" class=\"dataframe\">\n",
              "  <thead>\n",
              "    <tr style=\"text-align: right;\">\n",
              "      <th></th>\n",
              "      <th>Email Text</th>\n",
              "    </tr>\n",
              "  </thead>\n",
              "  <tbody>\n",
              "    <tr>\n",
              "      <th>0</th>\n",
              "      <td>[re, :, 6, ., 1100, ,, disc, :, uniformitarian...</td>\n",
              "    </tr>\n",
              "    <tr>\n",
              "      <th>1</th>\n",
              "      <td>[the, other, side, of, *, galicismos, *, *, ga...</td>\n",
              "    </tr>\n",
              "    <tr>\n",
              "      <th>2</th>\n",
              "      <td>[re, :, equistar, deal, tickets, are, you, sti...</td>\n",
              "    </tr>\n",
              "    <tr>\n",
              "      <th>3</th>\n",
              "      <td>[Hello, I, am, your, hot, lil, horny, toy., I,...</td>\n",
              "    </tr>\n",
              "    <tr>\n",
              "      <th>4</th>\n",
              "      <td>[software, at, incredibly, low, prices, (, 86,...</td>\n",
              "    </tr>\n",
              "  </tbody>\n",
              "</table>\n",
              "</div><br><label><b>dtype:</b> object</label>"
            ]
          },
          "metadata": {},
          "execution_count": 4
        }
      ]
    },
    {
      "cell_type": "markdown",
      "source": [
        "I would first remove any whitespace within the tokens, so I just get each word. Next, I would delete all extremely common words that just fill sentences (words that likely don't mean anything and appear in just about all emails). Words like: \"and\", \"is\", \"are\", ... . Next, I would one-hot-encoded the tokens for each e-mail as features/covariates/predictors. Then I would run PCA and Linear Regression, which would use the presence of the tokens to predict whether or not the e-mails are scams."
      ],
      "metadata": {
        "id": "CNW8reyd5LnX"
      }
    },
    {
      "cell_type": "markdown",
      "source": [
        "**Question 2**"
      ],
      "metadata": {
        "id": "NWlRzyTL3dpg"
      }
    },
    {
      "cell_type": "code",
      "source": [
        "with open('/content/PCA/05_PCA/all_tokens.pickle', 'rb') as file:\n",
        "    all_tokens = pickle.load(file)\n",
        "\n",
        "from collections import Counter\n",
        "token_count = Counter(all_tokens)\n",
        "token_freq = token_count.most_common()\n",
        "\n",
        "gdf = pd.DataFrame(token_freq,columns=['token','count'])\n",
        "gdf['count'].hist(grid=False,bins=100)"
      ],
      "metadata": {
        "colab": {
          "base_uri": "https://localhost:8080/",
          "height": 447
        },
        "id": "7mD4i-u76mcy",
        "outputId": "4ffada4f-5ffb-4f67-cb5a-f1e9bc436f5b"
      },
      "execution_count": 13,
      "outputs": [
        {
          "output_type": "execute_result",
          "data": {
            "text/plain": [
              "<Axes: >"
            ]
          },
          "metadata": {},
          "execution_count": 13
        },
        {
          "output_type": "display_data",
          "data": {
            "text/plain": [
              "<Figure size 640x480 with 1 Axes>"
            ],
            "image/png": "[encoded data removed]"
          },
          "metadata": {}
        }
      ]
    },
    {
      "cell_type": "markdown",
      "source": [
        "Most tokens appear a small amount of times. 1 is by far the most common frequency, followed by 2. There are a few tokens that are outliers (and occur 1200/1400 times). To summarize, this distribution is very right skewed, with most words appearing once."
      ],
      "metadata": {
        "id": "PvBcAwdd8C8_"
      }
    },
    {
      "cell_type": "markdown",
      "source": [
        "**Question 3**"
      ],
      "metadata": {
        "id": "PHJKzpCQ3fyn"
      }
    },
    {
      "cell_type": "code",
      "source": [
        "df = pd.read_parquet('/content/PCA/05_PCA/Phishing_clean.parquet')"
      ],
      "metadata": {
        "id": "y9hVoi218-jF"
      },
      "execution_count": 17,
      "outputs": []
    },
    {
      "cell_type": "markdown",
      "source": [
        "Part 1"
      ],
      "metadata": {
        "id": "fhL5g-1-98D1"
      }
    },
    {
      "cell_type": "code",
      "source": [
        "y = df['Email Type']\n",
        "X = df.drop('Email Type',axis=1)\n",
        "\n",
        "X_train, X_test, y_train, y_test = train_test_split(X, y,\n",
        "                                                    test_size=0.2, random_state=125)"
      ],
      "metadata": {
        "id": "nwBoJe838-7S"
      },
      "execution_count": 20,
      "outputs": []
    },
    {
      "cell_type": "markdown",
      "source": [
        "Part 2"
      ],
      "metadata": {
        "id": "0GSzZAUI9842"
      }
    },
    {
      "cell_type": "code",
      "source": [
        "lm_0 = LinearRegression(fit_intercept=False).fit(X_train,y_train)\n",
        "y_hat_test_0 = lm_0.predict(X_test)\n",
        "y_hat_train_0 = lm_0.predict(X_train)\n",
        "print('train r^2: ', r2_score(y_hat_train_0,y_train) )\n",
        "print('test r^2: ', r2_score(y_hat_test_0,y_test) )"
      ],
      "metadata": {
        "colab": {
          "base_uri": "https://localhost:8080/"
        },
        "id": "irUAWK7k9v8w",
        "outputId": "7675d57e-6b26-4370-f1e8-e77a9171c8ac"
      },
      "execution_count": 21,
      "outputs": [
        {
          "output_type": "stream",
          "name": "stdout",
          "text": [
            "train r^2:  0.6210107280960204\n",
            "test r^2:  -0.00026838432670373\n"
          ]
        }
      ]
    },
    {
      "cell_type": "markdown",
      "source": [
        "The training r^2 is fairly high, but the testing r^2 is worse than just predicting the mean. This suggests that the model is overfitting the data. This makes sense due to the fact that we have so many variables that are likely correlated."
      ],
      "metadata": {
        "id": "7UUlWcI3-epu"
      }
    },
    {
      "cell_type": "markdown",
      "source": [
        "Part 3"
      ],
      "metadata": {
        "id": "ve-4xOn699wv"
      }
    },
    {
      "cell_type": "code",
      "source": [
        "rdf = pd.DataFrame({'variable':lm_0.feature_names_in_ , 'value':lm_0.coef_})\n",
        "rdf['abs'] = np.abs(rdf['value'])\n",
        "rdf.sort_values('abs',ascending=False)"
      ],
      "metadata": {
        "colab": {
          "base_uri": "https://localhost:8080/",
          "height": 423
        },
        "id": "hhucmuNJ95dg",
        "outputId": "fc44fff9-9717-4c4d-b4a6-d35bf273f9d4"
      },
      "execution_count": 22,
      "outputs": [
        {
          "output_type": "execute_result",
          "data": {
            "text/plain": [
              "        variable         value           abs\n",
              "710         1997 -1.415784e+13  1.415784e+13\n",
              "421         1995  1.158467e+13  1.158467e+13\n",
              "1133         19, -1.025713e+13  1.025713e+13\n",
              "340         2005 -9.773947e+12  9.773947e+12\n",
              "1146       -0400 -8.062341e+12  8.062341e+12\n",
              "...          ...           ...           ...\n",
              "1399       union  2.822876e-04  2.822876e-04\n",
              "565         east -2.746582e-04  2.746582e-04\n",
              "2268     ravages -1.068115e-04  1.068115e-04\n",
              "457          due -6.484985e-05  6.484985e-05\n",
              "2709  leadership -6.103516e-05  6.103516e-05\n",
              "\n",
              "[2711 rows x 3 columns]"
            ],
            "text/html": [
              "\n",
              "  <div id=\"df-b7e35646-b874-40c6-a75c-0f64971b349e\" class=\"colab-df-container\">\n",
              "    <div>\n",
              "<style scoped>\n",
              "    .dataframe tbody tr th:only-of-type {\n",
              "        vertical-align: middle;\n",
              "    }\n",
              "\n",
              "    .dataframe tbody tr th {\n",
              "        vertical-align: top;\n",
              "    }\n",
              "\n",
              "    .dataframe thead th {\n",
              "        text-align: right;\n",
              "    }\n",
              "</style>\n",
              "<table border=\"1\" class=\"dataframe\">\n",
              "  <thead>\n",
              "    <tr style=\"text-align: right;\">\n",
              "      <th></th>\n",
              "      <th>variable</th>\n",
              "      <th>value</th>\n",
              "      <th>abs</th>\n",
              "    </tr>\n",
              "  </thead>\n",
              "  <tbody>\n",
              "    <tr>\n",
              "      <th>710</th>\n",
              "      <td>1997</td>\n",
              "      <td>-1.415784e+13</td>\n",
              "      <td>1.415784e+13</td>\n",
              "    </tr>\n",
              "    <tr>\n",
              "      <th>421</th>\n",
              "      <td>1995</td>\n",
              "      <td>1.158467e+13</td>\n",
              "      <td>1.158467e+13</td>\n",
              "    </tr>\n",
              "    <tr>\n",
              "      <th>1133</th>\n",
              "      <td>19,</td>\n",
              "      <td>-1.025713e+13</td>\n",
              "      <td>1.025713e+13</td>\n",
              "    </tr>\n",
              "    <tr>\n",
              "      <th>340</th>\n",
              "      <td>2005</td>\n",
              "      <td>-9.773947e+12</td>\n",
              "      <td>9.773947e+12</td>\n",
              "    </tr>\n",
              "    <tr>\n",
              "      <th>1146</th>\n",
              "      <td>-0400</td>\n",
              "      <td>-8.062341e+12</td>\n",
              "      <td>8.062341e+12</td>\n",
              "    </tr>\n",
              "    <tr>\n",
              "      <th>...</th>\n",
              "      <td>...</td>\n",
              "      <td>...</td>\n",
              "      <td>...</td>\n",
              "    </tr>\n",
              "    <tr>\n",
              "      <th>1399</th>\n",
              "      <td>union</td>\n",
              "      <td>2.822876e-04</td>\n",
              "      <td>2.822876e-04</td>\n",
              "    </tr>\n",
              "    <tr>\n",
              "      <th>565</th>\n",
              "      <td>east</td>\n",
              "      <td>-2.746582e-04</td>\n",
              "      <td>2.746582e-04</td>\n",
              "    </tr>\n",
              "    <tr>\n",
              "      <th>2268</th>\n",
              "      <td>ravages</td>\n",
              "      <td>-1.068115e-04</td>\n",
              "      <td>1.068115e-04</td>\n",
              "    </tr>\n",
              "    <tr>\n",
              "      <th>457</th>\n",
              "      <td>due</td>\n",
              "      <td>-6.484985e-05</td>\n",
              "      <td>6.484985e-05</td>\n",
              "    </tr>\n",
              "    <tr>\n",
              "      <th>2709</th>\n",
              "      <td>leadership</td>\n",
              "      <td>-6.103516e-05</td>\n",
              "      <td>6.103516e-05</td>\n",
              "    </tr>\n",
              "  </tbody>\n",
              "</table>\n",
              "<p>2711 rows × 3 columns</p>\n",
              "</div>\n",
              "    <div class=\"colab-df-buttons\">\n",
              "\n",
              "  <div class=\"colab-df-container\">\n",
              "    <button class=\"colab-df-convert\" onclick=\"convertToInteractive('df-b7e35646-b874-40c6-a75c-0f64971b349e')\"\n",
              "            title=\"Convert this dataframe to an interactive table.\"\n",
              "            style=\"display:none;\">\n",
              "\n",
              "  <svg xmlns=\"http://www.w3.org/2000/svg\" height=\"24px\" viewBox=\"0 -960 960 960\">\n",
              "    <path d=\"M120-120v-720h720v720H120Zm60-500h600v-160H180v160Zm220 220h160v-160H400v160Zm0 220h160v-160H400v160ZM180-400h160v-160H180v160Zm440 0h160v-160H620v160ZM180-180h160v-160H180v160Zm440 0h160v-160H620v160Z\"/>\n",
              "  </svg>\n",
              "    </button>\n",
              "\n",
              "  <style>\n",
              "    .colab-df-container {\n",
              "      display:flex;\n",
              "      gap: 12px;\n",
              "    }\n",
              "\n",
              "    .colab-df-convert {\n",
              "      background-color: #E8F0FE;\n",
              "      border: none;\n",
              "      border-radius: 50%;\n",
              "      cursor: pointer;\n",
              "      display: none;\n",
              "      fill: #1967D2;\n",
              "      height: 32px;\n",
              "      padding: 0 0 0 0;\n",
              "      width: 32px;\n",
              "    }\n",
              "\n",
              "    .colab-df-convert:hover {\n",
              "      background-color: #E2EBFA;\n",
              "      box-shadow: 0px 1px 2px rgba(60, 64, 67, 0.3), 0px 1px 3px 1px rgba(60, 64, 67, 0.15);\n",
              "      fill: #174EA6;\n",
              "    }\n",
              "\n",
              "    .colab-df-buttons div {\n",
              "      margin-bottom: 4px;\n",
              "    }\n",
              "\n",
              "    [theme=dark] .colab-df-convert {\n",
              "      background-color: #3B4455;\n",
              "      fill: #D2E3FC;\n",
              "    }\n",
              "\n",
              "    [theme=dark] .colab-df-convert:hover {\n",
              "      background-color: #434B5C;\n",
              "      box-shadow: 0px 1px 3px 1px rgba(0, 0, 0, 0.15);\n",
              "      filter: drop-shadow(0px 1px 2px rgba(0, 0, 0, 0.3));\n",
              "      fill: #FFFFFF;\n",
              "    }\n",
              "  </style>\n",
              "\n",
              "    <script>\n",
              "      const buttonEl =\n",
              "        document.querySelector('#df-b7e35646-b874-40c6-a75c-0f64971b349e button.colab-df-convert');\n",
              "      buttonEl.style.display =\n",
              "        google.colab.kernel.accessAllowed ? 'block' : 'none';\n",
              "\n",
              "      async function convertToInteractive(key) {\n",
              "        const element = document.querySelector('#df-b7e35646-b874-40c6-a75c-0f64971b349e');\n",
              "        const dataTable =\n",
              "          await google.colab.kernel.invokeFunction('convertToInteractive',\n",
              "                                                    [key], {});\n",
              "        if (!dataTable) return;\n",
              "\n",
              "        const docLinkHtml = 'Like what you see? Visit the ' +\n",
              "          '<a target=\"_blank\" href=https://colab.research.google.com/notebooks/data_table.ipynb>data table notebook</a>'\n",
              "          + ' to learn more about interactive tables.';\n",
              "        element.innerHTML = '';\n",
              "        dataTable['output_type'] = 'display_data';\n",
              "        await google.colab.output.renderOutput(dataTable, element);\n",
              "        const docLink = document.createElement('div');\n",
              "        docLink.innerHTML = docLinkHtml;\n",
              "        element.appendChild(docLink);\n",
              "      }\n",
              "    </script>\n",
              "  </div>\n",
              "\n",
              "\n",
              "<div id=\"df-94e0f341-2eb1-4deb-8d21-95f7a6f3b708\">\n",
              "  <button class=\"colab-df-quickchart\" onclick=\"quickchart('df-94e0f341-2eb1-4deb-8d21-95f7a6f3b708')\"\n",
              "            title=\"Suggest charts\"\n",
              "            style=\"display:none;\">\n",
              "\n",
              "<svg xmlns=\"http://www.w3.org/2000/svg\" height=\"24px\"viewBox=\"0 0 24 24\"\n",
              "     width=\"24px\">\n",
              "    <g>\n",
              "        <path d=\"M19 3H5c-1.1 0-2 .9-2 2v14c0 1.1.9 2 2 2h14c1.1 0 2-.9 2-2V5c0-1.1-.9-2-2-2zM9 17H7v-7h2v7zm4 0h-2V7h2v10zm4 0h-2v-4h2v4z\"/>\n",
              "    </g>\n",
              "</svg>\n",
              "  </button>\n",
              "\n",
              "<style>\n",
              "  .colab-df-quickchart {\n",
              "      --bg-color: #E8F0FE;\n",
              "      --fill-color: #1967D2;\n",
              "      --hover-bg-color: #E2EBFA;\n",
              "      --hover-fill-color: #174EA6;\n",
              "      --disabled-fill-color: #AAA;\n",
              "      --disabled-bg-color: #DDD;\n",
              "  }\n",
              "\n",
              "  [theme=dark] .colab-df-quickchart {\n",
              "      --bg-color: #3B4455;\n",
              "      --fill-color: #D2E3FC;\n",
              "      --hover-bg-color: #434B5C;\n",
              "      --hover-fill-color: #FFFFFF;\n",
              "      --disabled-bg-color: #3B4455;\n",
              "      --disabled-fill-color: #666;\n",
              "  }\n",
              "\n",
              "  .colab-df-quickchart {\n",
              "    background-color: var(--bg-color);\n",
              "    border: none;\n",
              "    border-radius: 50%;\n",
              "    cursor: pointer;\n",
              "    display: none;\n",
              "    fill: var(--fill-color);\n",
              "    height: 32px;\n",
              "    padding: 0;\n",
              "    width: 32px;\n",
              "  }\n",
              "\n",
              "  .colab-df-quickchart:hover {\n",
              "    background-color: var(--hover-bg-color);\n",
              "    box-shadow: 0 1px 2px rgba(60, 64, 67, 0.3), 0 1px 3px 1px rgba(60, 64, 67, 0.15);\n",
              "    fill: var(--button-hover-fill-color);\n",
              "  }\n",
              "\n",
              "  .colab-df-quickchart-complete:disabled,\n",
              "  .colab-df-quickchart-complete:disabled:hover {\n",
              "    background-color: var(--disabled-bg-color);\n",
              "    fill: var(--disabled-fill-color);\n",
              "    box-shadow: none;\n",
              "  }\n",
              "\n",
              "  .colab-df-spinner {\n",
              "    border: 2px solid var(--fill-color);\n",
              "    border-color: transparent;\n",
              "    border-bottom-color: var(--fill-color);\n",
              "    animation:\n",
              "      spin 1s steps(1) infinite;\n",
              "  }\n",
              "\n",
              "  @keyframes spin {\n",
              "    0% {\n",
              "      border-color: transparent;\n",
              "      border-bottom-color: var(--fill-color);\n",
              "      border-left-color: var(--fill-color);\n",
              "    }\n",
              "    20% {\n",
              "      border-color: transparent;\n",
              "      border-left-color: var(--fill-color);\n",
              "      border-top-color: var(--fill-color);\n",
              "    }\n",
              "    30% {\n",
              "      border-color: transparent;\n",
              "      border-left-color: var(--fill-color);\n",
              "      border-top-color: var(--fill-color);\n",
              "      border-right-color: var(--fill-color);\n",
              "    }\n",
              "    40% {\n",
              "      border-color: transparent;\n",
              "      border-right-color: var(--fill-color);\n",
              "      border-top-color: var(--fill-color);\n",
              "    }\n",
              "    60% {\n",
              "      border-color: transparent;\n",
              "      border-right-color: var(--fill-color);\n",
              "    }\n",
              "    80% {\n",
              "      border-color: transparent;\n",
              "      border-right-color: var(--fill-color);\n",
              "      border-bottom-color: var(--fill-color);\n",
              "    }\n",
              "    90% {\n",
              "      border-color: transparent;\n",
              "      border-bottom-color: var(--fill-color);\n",
              "    }\n",
              "  }\n",
              "</style>\n",
              "\n",
              "  <script>\n",
              "    async function quickchart(key) {\n",
              "      const quickchartButtonEl =\n",
              "        document.querySelector('#' + key + ' button');\n",
              "      quickchartButtonEl.disabled = true;  // To prevent multiple clicks.\n",
              "      quickchartButtonEl.classList.add('colab-df-spinner');\n",
              "      try {\n",
              "        const charts = await google.colab.kernel.invokeFunction(\n",
              "            'suggestCharts', [key], {});\n",
              "      } catch (error) {\n",
              "        console.error('Error during call to suggestCharts:', error);\n",
              "      }\n",
              "      quickchartButtonEl.classList.remove('colab-df-spinner');\n",
              "      quickchartButtonEl.classList.add('colab-df-quickchart-complete');\n",
              "    }\n",
              "    (() => {\n",
              "      let quickchartButtonEl =\n",
              "        document.querySelector('#df-94e0f341-2eb1-4deb-8d21-95f7a6f3b708 button');\n",
              "      quickchartButtonEl.style.display =\n",
              "        google.colab.kernel.accessAllowed ? 'block' : 'none';\n",
              "    })();\n",
              "  </script>\n",
              "</div>\n",
              "\n",
              "    </div>\n",
              "  </div>\n"
            ],
            "application/vnd.google.colaboratory.intrinsic+json": {
              "type": "dataframe",
              "summary": "{\n  \"name\": \"rdf\",\n  \"rows\": 2711,\n  \"fields\": [\n    {\n      \"column\": \"variable\",\n      \"properties\": {\n        \"dtype\": \"string\",\n        \"num_unique_values\": 2711,\n        \"samples\": [\n          \"december\",\n          \"division\",\n          \"video\"\n        ],\n        \"semantic_type\": \"\",\n        \"description\": \"\"\n      }\n    },\n    {\n      \"column\": \"value\",\n      \"properties\": {\n        \"dtype\": \"number\",\n        \"std\": 739914491692.5779,\n        \"min\": -14157843842225.965,\n        \"max\": 11584666689061.584,\n        \"num_unique_values\": 2643,\n        \"samples\": [\n          0.1072845458984375,\n          0.08745574951171875,\n          0.0716705322265625\n        ],\n        \"semantic_type\": \"\",\n        \"description\": \"\"\n      }\n    },\n    {\n      \"column\": \"abs\",\n      \"properties\": {\n        \"dtype\": \"number\",\n        \"std\": 733947399037.043,\n        \"min\": 6.103515625e-05,\n        \"max\": 14157843842225.965,\n        \"num_unique_values\": 2593,\n        \"samples\": [\n          0.2853240966796875,\n          0.023303985595703125,\n          0.04402923583984375\n        ],\n        \"semantic_type\": \"\",\n        \"description\": \"\"\n      }\n    }\n  ]\n}"
            }
          },
          "metadata": {},
          "execution_count": 22
        }
      ]
    },
    {
      "cell_type": "markdown",
      "source": [
        "Numbers seem to have the largest coefficients in absolute value and most strongly influence prediction. This is not what we are looking for."
      ],
      "metadata": {
        "id": "Ns6XtaIP-PqQ"
      }
    },
    {
      "cell_type": "markdown",
      "source": [
        "**Question 4**"
      ],
      "metadata": {
        "id": "apU3dgyb3gw2"
      }
    },
    {
      "cell_type": "code",
      "source": [
        "reduction = PCA(n_components=2).fit(X_train)\n",
        "Z_train = reduction.transform(X_train)\n",
        "Z_test = reduction.transform(X_test)\n",
        "sns.scatterplot(x=Z_test[:,0],y=Z_test[:,1],hue=y_test)"
      ],
      "metadata": {
        "colab": {
          "base_uri": "https://localhost:8080/",
          "height": 447
        },
        "id": "oURC-ufJ-ygl",
        "outputId": "ff2926c5-8f05-4f33-d78c-4c791a40d138"
      },
      "execution_count": 23,
      "outputs": [
        {
          "output_type": "execute_result",
          "data": {
            "text/plain": [
              "<Axes: >"
            ]
          },
          "metadata": {},
          "execution_count": 23
        },
        {
          "output_type": "display_data",
          "data": {
            "text/plain": [
              "<Figure size 640x480 with 1 Axes>"
            ],
            "image/png": "[encoded data removed]"
          },
          "metadata": {}
        }
      ]
    },
    {
      "cell_type": "markdown",
      "source": [
        "The orange dots (which are the scam emails) are a bit lower with respect to the first principal component and a bit higher with respect to the second principal component."
      ],
      "metadata": {
        "id": "oYIZb0P5-_Ko"
      }
    },
    {
      "cell_type": "markdown",
      "source": [
        "**Question 5**"
      ],
      "metadata": {
        "id": "UoxCPLYY3hrd"
      }
    },
    {
      "cell_type": "code",
      "source": [
        "reduction = PCA(n_components=2610).fit(X_train)\n",
        "Z_train = reduction.transform(X_train)\n",
        "Z_test = reduction.transform(X_test)\n",
        "\n",
        "lm_k = LinearRegression().fit(Z_train,y_train)\n",
        "y_hat_test = lm_k.predict(Z_test)\n",
        "y_hat_train = lm_k.predict(Z_train)\n",
        "\n",
        "print('Train r^2: ', r2_score(y_hat_train,y_train) )\n",
        "print('Test r^2: ', r2_score(y_hat_test,y_test) )"
      ],
      "metadata": {
        "colab": {
          "base_uri": "https://localhost:8080/"
        },
        "id": "o2Gn4WpT_e1p",
        "outputId": "2cfadce5-73bf-4b70-adbc-640ac9fb4c07"
      },
      "execution_count": 26,
      "outputs": [
        {
          "output_type": "stream",
          "name": "stdout",
          "text": [
            "Train r^2:  0.692897536096375\n",
            "Test r^2:  0.5873905973217184\n"
          ]
        }
      ]
    },
    {
      "cell_type": "markdown",
      "source": [
        "The test r^2 value is MUCH better after using PCA. The model no longer seems to be over-fitting the data."
      ],
      "metadata": {
        "id": "YQKUg-xqAS8n"
      }
    },
    {
      "cell_type": "markdown",
      "source": [
        "**Question 6**"
      ],
      "metadata": {
        "id": "FJZ6SZox3icl"
      }
    },
    {
      "cell_type": "markdown",
      "source": [
        "PCA appears to greatly decrease the overfitting that occurs in linear regression, due to multicollinearity. PCA is a form of dimentionality reduction, so it attempts to decorrelate the components, which makes the testing r^2 much closer to the training r^2. On the other hand, when using PCA, we can interpret words, but not what the components themselves are, which can be a bit confusing and makes it difficult to understand how the PCA is actually working."
      ],
      "metadata": {
        "id": "D5QxJQMZAswz"
      }
    }
  ]
}